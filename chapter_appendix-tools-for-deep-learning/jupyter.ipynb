{
  "cells": [
    {
      "cell_type": "code",
      "source": [
        "from google.colab import files\n",
        "uploaded = files.upload()\n",
        "\n",
        "import numpy as np"
      ],
      "metadata": {
        "id": "bafUrgC5upl_",
        "outputId": "ef430e3f-f88a-4b87-de01-6e9df2314441",
        "colab": {
          "base_uri": "https://localhost:8080/",
          "height": 108
        }
      },
      "id": "bafUrgC5upl_",
      "execution_count": 20,
      "outputs": [
        {
          "output_type": "display_data",
          "data": {
            "text/plain": [
              "<IPython.core.display.HTML object>"
            ],
            "text/html": [
              "\n",
              "     <input type=\"file\" id=\"files-84187064-0d31-4517-8e28-e28a31f77f31\" name=\"files[]\" multiple disabled\n",
              "        style=\"border:none\" />\n",
              "     <output id=\"result-84187064-0d31-4517-8e28-e28a31f77f31\">\n",
              "      Upload widget is only available when the cell has been executed in the\n",
              "      current browser session. Please rerun this cell to enable.\n",
              "      </output>\n",
              "      <script>// Copyright 2017 Google LLC\n",
              "//\n",
              "// Licensed under the Apache License, Version 2.0 (the \"License\");\n",
              "// you may not use this file except in compliance with the License.\n",
              "// You may obtain a copy of the License at\n",
              "//\n",
              "//      http://www.apache.org/licenses/LICENSE-2.0\n",
              "//\n",
              "// Unless required by applicable law or agreed to in writing, software\n",
              "// distributed under the License is distributed on an \"AS IS\" BASIS,\n",
              "// WITHOUT WARRANTIES OR CONDITIONS OF ANY KIND, either express or implied.\n",
              "// See the License for the specific language governing permissions and\n",
              "// limitations under the License.\n",
              "\n",
              "/**\n",
              " * @fileoverview Helpers for google.colab Python module.\n",
              " */\n",
              "(function(scope) {\n",
              "function span(text, styleAttributes = {}) {\n",
              "  const element = document.createElement('span');\n",
              "  element.textContent = text;\n",
              "  for (const key of Object.keys(styleAttributes)) {\n",
              "    element.style[key] = styleAttributes[key];\n",
              "  }\n",
              "  return element;\n",
              "}\n",
              "\n",
              "// Max number of bytes which will be uploaded at a time.\n",
              "const MAX_PAYLOAD_SIZE = 100 * 1024;\n",
              "\n",
              "function _uploadFiles(inputId, outputId) {\n",
              "  const steps = uploadFilesStep(inputId, outputId);\n",
              "  const outputElement = document.getElementById(outputId);\n",
              "  // Cache steps on the outputElement to make it available for the next call\n",
              "  // to uploadFilesContinue from Python.\n",
              "  outputElement.steps = steps;\n",
              "\n",
              "  return _uploadFilesContinue(outputId);\n",
              "}\n",
              "\n",
              "// This is roughly an async generator (not supported in the browser yet),\n",
              "// where there are multiple asynchronous steps and the Python side is going\n",
              "// to poll for completion of each step.\n",
              "// This uses a Promise to block the python side on completion of each step,\n",
              "// then passes the result of the previous step as the input to the next step.\n",
              "function _uploadFilesContinue(outputId) {\n",
              "  const outputElement = document.getElementById(outputId);\n",
              "  const steps = outputElement.steps;\n",
              "\n",
              "  const next = steps.next(outputElement.lastPromiseValue);\n",
              "  return Promise.resolve(next.value.promise).then((value) => {\n",
              "    // Cache the last promise value to make it available to the next\n",
              "    // step of the generator.\n",
              "    outputElement.lastPromiseValue = value;\n",
              "    return next.value.response;\n",
              "  });\n",
              "}\n",
              "\n",
              "/**\n",
              " * Generator function which is called between each async step of the upload\n",
              " * process.\n",
              " * @param {string} inputId Element ID of the input file picker element.\n",
              " * @param {string} outputId Element ID of the output display.\n",
              " * @return {!Iterable<!Object>} Iterable of next steps.\n",
              " */\n",
              "function* uploadFilesStep(inputId, outputId) {\n",
              "  const inputElement = document.getElementById(inputId);\n",
              "  inputElement.disabled = false;\n",
              "\n",
              "  const outputElement = document.getElementById(outputId);\n",
              "  outputElement.innerHTML = '';\n",
              "\n",
              "  const pickedPromise = new Promise((resolve) => {\n",
              "    inputElement.addEventListener('change', (e) => {\n",
              "      resolve(e.target.files);\n",
              "    });\n",
              "  });\n",
              "\n",
              "  const cancel = document.createElement('button');\n",
              "  inputElement.parentElement.appendChild(cancel);\n",
              "  cancel.textContent = 'Cancel upload';\n",
              "  const cancelPromise = new Promise((resolve) => {\n",
              "    cancel.onclick = () => {\n",
              "      resolve(null);\n",
              "    };\n",
              "  });\n",
              "\n",
              "  // Wait for the user to pick the files.\n",
              "  const files = yield {\n",
              "    promise: Promise.race([pickedPromise, cancelPromise]),\n",
              "    response: {\n",
              "      action: 'starting',\n",
              "    }\n",
              "  };\n",
              "\n",
              "  cancel.remove();\n",
              "\n",
              "  // Disable the input element since further picks are not allowed.\n",
              "  inputElement.disabled = true;\n",
              "\n",
              "  if (!files) {\n",
              "    return {\n",
              "      response: {\n",
              "        action: 'complete',\n",
              "      }\n",
              "    };\n",
              "  }\n",
              "\n",
              "  for (const file of files) {\n",
              "    const li = document.createElement('li');\n",
              "    li.append(span(file.name, {fontWeight: 'bold'}));\n",
              "    li.append(span(\n",
              "        `(${file.type || 'n/a'}) - ${file.size} bytes, ` +\n",
              "        `last modified: ${\n",
              "            file.lastModifiedDate ? file.lastModifiedDate.toLocaleDateString() :\n",
              "                                    'n/a'} - `));\n",
              "    const percent = span('0% done');\n",
              "    li.appendChild(percent);\n",
              "\n",
              "    outputElement.appendChild(li);\n",
              "\n",
              "    const fileDataPromise = new Promise((resolve) => {\n",
              "      const reader = new FileReader();\n",
              "      reader.onload = (e) => {\n",
              "        resolve(e.target.result);\n",
              "      };\n",
              "      reader.readAsArrayBuffer(file);\n",
              "    });\n",
              "    // Wait for the data to be ready.\n",
              "    let fileData = yield {\n",
              "      promise: fileDataPromise,\n",
              "      response: {\n",
              "        action: 'continue',\n",
              "      }\n",
              "    };\n",
              "\n",
              "    // Use a chunked sending to avoid message size limits. See b/62115660.\n",
              "    let position = 0;\n",
              "    do {\n",
              "      const length = Math.min(fileData.byteLength - position, MAX_PAYLOAD_SIZE);\n",
              "      const chunk = new Uint8Array(fileData, position, length);\n",
              "      position += length;\n",
              "\n",
              "      const base64 = btoa(String.fromCharCode.apply(null, chunk));\n",
              "      yield {\n",
              "        response: {\n",
              "          action: 'append',\n",
              "          file: file.name,\n",
              "          data: base64,\n",
              "        },\n",
              "      };\n",
              "\n",
              "      let percentDone = fileData.byteLength === 0 ?\n",
              "          100 :\n",
              "          Math.round((position / fileData.byteLength) * 100);\n",
              "      percent.textContent = `${percentDone}% done`;\n",
              "\n",
              "    } while (position < fileData.byteLength);\n",
              "  }\n",
              "\n",
              "  // All done.\n",
              "  yield {\n",
              "    response: {\n",
              "      action: 'complete',\n",
              "    }\n",
              "  };\n",
              "}\n",
              "\n",
              "scope.google = scope.google || {};\n",
              "scope.google.colab = scope.google.colab || {};\n",
              "scope.google.colab._files = {\n",
              "  _uploadFiles,\n",
              "  _uploadFilesContinue,\n",
              "};\n",
              "})(self);\n",
              "</script> "
            ]
          },
          "metadata": {}
        },
        {
          "output_type": "stream",
          "name": "stdout",
          "text": [
            "Saving olivetti_faces.npy to olivetti_faces.npy\n",
            "Saving olivetti_faces_target.npy to olivetti_faces_target.npy\n"
          ]
        }
      ]
    },
    {
      "cell_type": "code",
      "source": [
        "# Load data (Make sure files are in /content/ if using just filenames)\n",
        "faces = np.load('olivetti_faces.npy')  # shape: (400, 64, 64)\n",
        "targets = np.load('olivetti_faces_target.npy')  # shape: (400,)\n",
        "\n",
        "print(faces.shape)   # Expecting (400, 64, 64)\n",
        "print(targets.shape) # Expecting (400,)"
      ],
      "metadata": {
        "id": "asPxUzzNu8lu",
        "outputId": "3890a670-7c99-4878-b84a-9e57eb22810b",
        "colab": {
          "base_uri": "https://localhost:8080/"
        }
      },
      "id": "asPxUzzNu8lu",
      "execution_count": 23,
      "outputs": [
        {
          "output_type": "stream",
          "name": "stdout",
          "text": [
            "(400, 64, 64)\n",
            "(400,)\n"
          ]
        }
      ]
    },
    {
      "cell_type": "code",
      "source": [
        "# Flatten (64x64) to 4096 and normalize pixel values\n",
        "X = faces.reshape((faces.shape[0], -1))\n",
        "X = X / 255.0\n",
        "y = targets"
      ],
      "metadata": {
        "id": "YJ2iT08pxOd2"
      },
      "id": "YJ2iT08pxOd2",
      "execution_count": 24,
      "outputs": []
    },
    {
      "cell_type": "code",
      "source": [
        "from sklearn.model_selection import train_test_split\n",
        "\n",
        "# Split the data with stratification\n",
        "X_train, X_test, y_train, y_test = train_test_split(\n",
        "    X, y, test_size=0.2, random_state=42, stratify=y\n",
        ")"
      ],
      "metadata": {
        "id": "zTiTVzXXxS2x"
      },
      "id": "zTiTVzXXxS2x",
      "execution_count": 26,
      "outputs": []
    },
    {
      "cell_type": "code",
      "source": [
        "from sklearn.svm import SVC\n",
        "from sklearn.metrics import classification_report\n",
        "\n",
        "# Train and evaluate SVM\n",
        "svm = SVC(kernel='rbf', C=10, gamma=0.001)\n",
        "svm.fit(X_train, y_train)\n",
        "y_pred_svm = svm.predict(X_test)\n",
        "\n",
        "print(\"SVM Report:\\n\", classification_report(y_test, y_pred_svm))\n"
      ],
      "metadata": {
        "id": "xJZGmPwoxU45",
        "outputId": "d96bc7e7-a525-498d-fffe-60336cb5da6a",
        "colab": {
          "base_uri": "https://localhost:8080/"
        }
      },
      "id": "xJZGmPwoxU45",
      "execution_count": 27,
      "outputs": [
        {
          "output_type": "stream",
          "name": "stdout",
          "text": [
            "SVM Report:\n",
            "               precision    recall  f1-score   support\n",
            "\n",
            "           0       1.00      0.50      0.67         2\n",
            "           1       1.00      1.00      1.00         2\n",
            "           2       1.00      0.50      0.67         2\n",
            "           3       1.00      0.50      0.67         2\n",
            "           4       0.00      0.00      0.00         2\n",
            "           5       1.00      1.00      1.00         2\n",
            "           6       1.00      1.00      1.00         2\n",
            "           7       1.00      1.00      1.00         2\n",
            "           8       0.50      1.00      0.67         2\n",
            "           9       1.00      0.50      0.67         2\n",
            "          10       1.00      1.00      1.00         2\n",
            "          11       1.00      1.00      1.00         2\n",
            "          12       1.00      0.50      0.67         2\n",
            "          13       1.00      1.00      1.00         2\n",
            "          14       1.00      1.00      1.00         2\n",
            "          15       1.00      1.00      1.00         2\n",
            "          16       1.00      1.00      1.00         2\n",
            "          17       0.67      1.00      0.80         2\n",
            "          18       1.00      1.00      1.00         2\n",
            "          19       1.00      0.50      0.67         2\n",
            "          20       0.50      1.00      0.67         2\n",
            "          21       1.00      1.00      1.00         2\n",
            "          22       0.33      0.50      0.40         2\n",
            "          23       1.00      1.00      1.00         2\n",
            "          24       0.50      0.50      0.50         2\n",
            "          25       1.00      1.00      1.00         2\n",
            "          26       1.00      1.00      1.00         2\n",
            "          27       1.00      1.00      1.00         2\n",
            "          28       1.00      1.00      1.00         2\n",
            "          29       0.50      1.00      0.67         2\n",
            "          30       0.00      0.00      0.00         2\n",
            "          31       1.00      1.00      1.00         2\n",
            "          32       1.00      1.00      1.00         2\n",
            "          33       1.00      1.00      1.00         2\n",
            "          34       1.00      0.50      0.67         2\n",
            "          35       1.00      1.00      1.00         2\n",
            "          36       1.00      1.00      1.00         2\n",
            "          37       1.00      1.00      1.00         2\n",
            "          38       1.00      1.00      1.00         2\n",
            "          39       0.00      0.00      0.00         2\n",
            "\n",
            "    accuracy                           0.81        80\n",
            "   macro avg       0.85      0.81      0.81        80\n",
            "weighted avg       0.85      0.81      0.81        80\n",
            "\n"
          ]
        },
        {
          "output_type": "stream",
          "name": "stderr",
          "text": [
            "/usr/local/lib/python3.11/dist-packages/sklearn/metrics/_classification.py:1565: UndefinedMetricWarning: Precision is ill-defined and being set to 0.0 in labels with no predicted samples. Use `zero_division` parameter to control this behavior.\n",
            "  _warn_prf(average, modifier, f\"{metric.capitalize()} is\", len(result))\n",
            "/usr/local/lib/python3.11/dist-packages/sklearn/metrics/_classification.py:1565: UndefinedMetricWarning: Precision is ill-defined and being set to 0.0 in labels with no predicted samples. Use `zero_division` parameter to control this behavior.\n",
            "  _warn_prf(average, modifier, f\"{metric.capitalize()} is\", len(result))\n",
            "/usr/local/lib/python3.11/dist-packages/sklearn/metrics/_classification.py:1565: UndefinedMetricWarning: Precision is ill-defined and being set to 0.0 in labels with no predicted samples. Use `zero_division` parameter to control this behavior.\n",
            "  _warn_prf(average, modifier, f\"{metric.capitalize()} is\", len(result))\n"
          ]
        }
      ]
    },
    {
      "cell_type": "code",
      "source": [
        "from sklearn.ensemble import RandomForestClassifier\n",
        "\n",
        "# Train and evaluate Random Forest\n",
        "rf = RandomForestClassifier(n_estimators=100, random_state=42)\n",
        "rf.fit(X_train, y_train)\n",
        "y_pred_rf = rf.predict(X_test)\n",
        "\n",
        "print(\"Random Forest Report:\\n\", classification_report(y_test, y_pred_rf))\n"
      ],
      "metadata": {
        "id": "ZPGknhGxxaqR",
        "outputId": "7fbceff7-86c8-4d50-b732-fbdc700d5976",
        "colab": {
          "base_uri": "https://localhost:8080/"
        }
      },
      "id": "ZPGknhGxxaqR",
      "execution_count": 28,
      "outputs": [
        {
          "output_type": "stream",
          "name": "stdout",
          "text": [
            "Random Forest Report:\n",
            "               precision    recall  f1-score   support\n",
            "\n",
            "           0       0.67      1.00      0.80         2\n",
            "           1       1.00      1.00      1.00         2\n",
            "           2       1.00      1.00      1.00         2\n",
            "           3       1.00      0.50      0.67         2\n",
            "           4       1.00      0.50      0.67         2\n",
            "           5       1.00      1.00      1.00         2\n",
            "           6       1.00      1.00      1.00         2\n",
            "           7       1.00      1.00      1.00         2\n",
            "           8       1.00      1.00      1.00         2\n",
            "           9       1.00      0.50      0.67         2\n",
            "          10       1.00      1.00      1.00         2\n",
            "          11       1.00      1.00      1.00         2\n",
            "          12       0.67      1.00      0.80         2\n",
            "          13       1.00      1.00      1.00         2\n",
            "          14       1.00      1.00      1.00         2\n",
            "          15       1.00      0.50      0.67         2\n",
            "          16       1.00      1.00      1.00         2\n",
            "          17       0.67      1.00      0.80         2\n",
            "          18       1.00      1.00      1.00         2\n",
            "          19       1.00      1.00      1.00         2\n",
            "          20       1.00      1.00      1.00         2\n",
            "          21       1.00      1.00      1.00         2\n",
            "          22       0.67      1.00      0.80         2\n",
            "          23       0.67      1.00      0.80         2\n",
            "          24       1.00      0.50      0.67         2\n",
            "          25       1.00      1.00      1.00         2\n",
            "          26       1.00      1.00      1.00         2\n",
            "          27       1.00      1.00      1.00         2\n",
            "          28       1.00      1.00      1.00         2\n",
            "          29       1.00      1.00      1.00         2\n",
            "          30       1.00      1.00      1.00         2\n",
            "          31       1.00      1.00      1.00         2\n",
            "          32       1.00      1.00      1.00         2\n",
            "          33       1.00      1.00      1.00         2\n",
            "          34       1.00      1.00      1.00         2\n",
            "          35       1.00      1.00      1.00         2\n",
            "          36       1.00      1.00      1.00         2\n",
            "          37       1.00      1.00      1.00         2\n",
            "          38       1.00      1.00      1.00         2\n",
            "          39       1.00      1.00      1.00         2\n",
            "\n",
            "    accuracy                           0.94        80\n",
            "   macro avg       0.96      0.94      0.93        80\n",
            "weighted avg       0.96      0.94      0.93        80\n",
            "\n"
          ]
        }
      ]
    },
    {
      "cell_type": "code",
      "source": [
        "from sklearn.decomposition import PCA\n",
        "\n",
        "# Apply PCA and train SVM again\n",
        "pca = PCA(n_components=150)\n",
        "X_train_pca = pca.fit_transform(X_train)\n",
        "X_test_pca = pca.transform(X_test)\n",
        "\n",
        "svm_pca = SVC(kernel='rbf', C=10, gamma=0.001)\n",
        "svm_pca.fit(X_train_pca, y_train)\n",
        "y_pred_pca = svm_pca.predict(X_test_pca)\n",
        "\n",
        "print(\"SVM with PCA Report:\\n\", classification_report(y_test, y_pred_pca))\n"
      ],
      "metadata": {
        "id": "6SwKw_B8xe50",
        "outputId": "8ed7b55e-1e11-43cf-e8c5-7187e8aacfda",
        "colab": {
          "base_uri": "https://localhost:8080/"
        }
      },
      "id": "6SwKw_B8xe50",
      "execution_count": 29,
      "outputs": [
        {
          "output_type": "stream",
          "name": "stdout",
          "text": [
            "SVM with PCA Report:\n",
            "               precision    recall  f1-score   support\n",
            "\n",
            "           0       1.00      0.50      0.67         2\n",
            "           1       1.00      1.00      1.00         2\n",
            "           2       1.00      0.50      0.67         2\n",
            "           3       0.00      0.00      0.00         2\n",
            "           4       0.00      0.00      0.00         2\n",
            "           5       1.00      1.00      1.00         2\n",
            "           6       1.00      1.00      1.00         2\n",
            "           7       1.00      1.00      1.00         2\n",
            "           8       0.50      1.00      0.67         2\n",
            "           9       1.00      0.50      0.67         2\n",
            "          10       1.00      1.00      1.00         2\n",
            "          11       1.00      1.00      1.00         2\n",
            "          12       1.00      0.50      0.67         2\n",
            "          13       1.00      1.00      1.00         2\n",
            "          14       1.00      0.50      0.67         2\n",
            "          15       1.00      1.00      1.00         2\n",
            "          16       1.00      1.00      1.00         2\n",
            "          17       0.67      1.00      0.80         2\n",
            "          18       1.00      1.00      1.00         2\n",
            "          19       1.00      0.50      0.67         2\n",
            "          20       0.50      1.00      0.67         2\n",
            "          21       1.00      1.00      1.00         2\n",
            "          22       0.33      0.50      0.40         2\n",
            "          23       1.00      1.00      1.00         2\n",
            "          24       0.33      0.50      0.40         2\n",
            "          25       1.00      1.00      1.00         2\n",
            "          26       1.00      1.00      1.00         2\n",
            "          27       1.00      1.00      1.00         2\n",
            "          28       1.00      1.00      1.00         2\n",
            "          29       0.50      1.00      0.67         2\n",
            "          30       0.00      0.00      0.00         2\n",
            "          31       1.00      1.00      1.00         2\n",
            "          32       1.00      1.00      1.00         2\n",
            "          33       1.00      1.00      1.00         2\n",
            "          34       1.00      0.50      0.67         2\n",
            "          35       1.00      1.00      1.00         2\n",
            "          36       1.00      1.00      1.00         2\n",
            "          37       1.00      0.50      0.67         2\n",
            "          38       1.00      1.00      1.00         2\n",
            "          39       0.00      0.00      0.00         2\n",
            "\n",
            "    accuracy                           0.78        80\n",
            "   macro avg       0.82      0.78      0.77        80\n",
            "weighted avg       0.82      0.78      0.77        80\n",
            "\n"
          ]
        },
        {
          "output_type": "stream",
          "name": "stderr",
          "text": [
            "/usr/local/lib/python3.11/dist-packages/sklearn/metrics/_classification.py:1565: UndefinedMetricWarning: Precision is ill-defined and being set to 0.0 in labels with no predicted samples. Use `zero_division` parameter to control this behavior.\n",
            "  _warn_prf(average, modifier, f\"{metric.capitalize()} is\", len(result))\n",
            "/usr/local/lib/python3.11/dist-packages/sklearn/metrics/_classification.py:1565: UndefinedMetricWarning: Precision is ill-defined and being set to 0.0 in labels with no predicted samples. Use `zero_division` parameter to control this behavior.\n",
            "  _warn_prf(average, modifier, f\"{metric.capitalize()} is\", len(result))\n",
            "/usr/local/lib/python3.11/dist-packages/sklearn/metrics/_classification.py:1565: UndefinedMetricWarning: Precision is ill-defined and being set to 0.0 in labels with no predicted samples. Use `zero_division` parameter to control this behavior.\n",
            "  _warn_prf(average, modifier, f\"{metric.capitalize()} is\", len(result))\n"
          ]
        }
      ]
    },
    {
      "cell_type": "code",
      "source": [
        "import seaborn as sns\n",
        "import matplotlib.pyplot as plt\n",
        "from sklearn.metrics import confusion_matrix\n",
        "\n",
        "# Show confusion matrix\n",
        "cm = confusion_matrix(y_test, y_pred_pca)\n",
        "plt.figure(figsize=(10, 8))\n",
        "sns.heatmap(cm, annot=True, fmt=\"d\", cmap=\"Blues\")\n",
        "plt.title(\"Confusion Matrix - SVM with PCA\")\n",
        "plt.xlabel(\"Predicted\")\n",
        "plt.ylabel(\"True\")\n",
        "plt.show()\n"
      ],
      "metadata": {
        "id": "KO6LNCsVxhxa",
        "outputId": "38ce9b38-112e-491c-e0ad-280abde4fe8c",
        "colab": {
          "base_uri": "https://localhost:8080/",
          "height": 722
        }
      },
      "id": "KO6LNCsVxhxa",
      "execution_count": 30,
      "outputs": [
        {
          "output_type": "display_data",
          "data": {
            "text/plain": [
              "<Figure size 1000x800 with 2 Axes>"
            ],
            "image/png": "[encoded data removed]"
          },
          "metadata": {}
        }
      ]
    }
  ],
  "metadata": {
    "kernelspec": {
      "display_name": "Python 3",
      "name": "python3"
    },
    "language_info": {
      "name": "python"
    },
    "required_libs": [],
    "colab": {
      "provenance": []
    }
  },
  "nbformat": 4,
  "nbformat_minor": 5
}